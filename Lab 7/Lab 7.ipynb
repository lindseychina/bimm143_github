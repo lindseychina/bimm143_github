{
  "cells": [
    {
      "cell_type": "raw",
      "metadata": {},
      "source": [
        "---\n",
        "title: \"Lab 7\"\n",
        "author: \"Lindsey China (A17023629)\"\n",
        "format: html\n",
        "toc: TRUE\n",
        "---"
      ],
      "id": "413fc58b"
    },
    {
      "cell_type": "markdown",
      "metadata": {},
      "source": [
        "Today we will start our multi-part exploration of some key machine learning methods. We will begin with clustering - finding groupings in data, and then dimensionallity reduction.\n",
        "\n",
        "## Clustering\n",
        "\n",
        "Let's start with \"k-means\" clustering.\n",
        "The main function in base R for this `kmeans()`\n",
        "\n",
        "\n",
        "```{Generated Data}\n",
        "# Make some data\n",
        "rnorm(1000)\n",
        "```"
      ],
      "id": "e07d347c"
    }
  ],
  "metadata": {
    "kernelspec": {
      "display_name": "Python 3",
      "language": "python",
      "name": "python3"
    }
  },
  "nbformat": 4,
  "nbformat_minor": 5
}